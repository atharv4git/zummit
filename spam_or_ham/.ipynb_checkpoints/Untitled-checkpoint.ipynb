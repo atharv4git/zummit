{
 "cells": [
  {
   "cell_type": "code",
   "execution_count": 1,
   "id": "a20da5a6",
   "metadata": {},
   "outputs": [],
   "source": [
    "import pandas as pd\n",
    "import numpy as np\n",
    "import os\n",
    "import email\n",
    "import email.policy\n",
    "import random\n",
    "import matplotlib.pyplot as plt"
   ]
  },
  {
   "cell_type": "code",
   "execution_count": 2,
   "id": "77c8466b",
   "metadata": {},
   "outputs": [],
   "source": [
    "PATH = './hamnspam/'\n",
    "ham_filenames = [name for name in os.listdir(PATH+'ham')]\n",
    "spam_filenames = [name for name in os.listdir(PATH+'spam')]\n",
    "random.shuffle(ham_filenames)\n",
    "random.shuffle(spam_filenames)"
   ]
  },
  {
   "cell_type": "markdown",
   "id": "801100a9",
   "metadata": {},
   "source": [
    "## Load Emails"
   ]
  },
  {
   "cell_type": "code",
   "execution_count": 3,
   "id": "ce72db64",
   "metadata": {},
   "outputs": [
    {
     "name": "stdout",
     "output_type": "stream",
     "text": [
      "Number of spam emails: 458\n",
      "Number of ham emails: 2548\n"
     ]
    }
   ],
   "source": [
    "def load_email(is_spam,filename,path):\n",
    "    '''\n",
    "    Load email by its name and loacation\n",
    "    \n",
    "    @is_spam: whether email is spam or not\n",
    "    @filename: email name\n",
    "    @path: PATH \n",
    "    \n",
    "    @return: email object\n",
    "    '''\n",
    "    if is_spam :\n",
    "        path = path + 'spam/' + filename\n",
    "    else :\n",
    "        path = path + 'ham/' + filename\n",
    "    with open(path,'rb') as f:\n",
    "        return email.parser.BytesParser(policy=email.policy.default).parse(f)\n",
    "\n",
    "ham_emails = [load_email(False,name,PATH) for name in ham_filenames]\n",
    "spam_emails = [load_email(True,name,PATH) for name in spam_filenames]\n",
    "\n",
    "#remove not text type emails\n",
    "ham_emails = [email for email in ham_emails if type(email.get_payload()) is str or len(email.get_payload())>1] \n",
    "spam_emails = [email for email in spam_emails if type(email.get_payload()) is str or len(email.get_payload())>1]\n",
    "\n",
    "print('Number of spam emails:',len(spam_emails))\n",
    "print('Number of ham emails:',len(ham_emails))"
   ]
  },
  {
   "cell_type": "markdown",
   "id": "5b088bcb",
   "metadata": {},
   "source": [
    "#### Example:"
   ]
  },
  {
   "cell_type": "code",
   "execution_count": 13,
   "id": "785d118a",
   "metadata": {},
   "outputs": [
    {
     "name": "stdout",
     "output_type": "stream",
     "text": [
      "Example email content:\n",
      "\n",
      " 1) Fight The Risk of Cancer!\n",
      "http://www.adclick.ws/p.cfm?o=315&s=pk007\n",
      "\n",
      "2) Slim Down - Guaranteed to lose 10-12 lbs in 30 days\n",
      "http://www.adclick.ws/p.cfm?o=249&s=pk007\n",
      "\n",
      "3) Get the Child Support You Deserve - Free Legal Advice\n",
      "http://www.adclick.ws/p.cfm?o=245&s=pk002\n",
      "\n",
      "4) Join the Web's Fastest Growing Singles Community\n",
      "http://www.adclick.ws/p.cfm?o=259&s=pk007\n",
      "\n",
      "5) Start Your Private Photo Album O\n"
     ]
    }
   ],
   "source": [
    "test_email = spam_emails[1]\n",
    "print('Example email content:\\n\\n',test_email.get_payload()[:400])"
   ]
  },
  {
   "cell_type": "markdown",
   "id": "6a1f73bc",
   "metadata": {},
   "source": [
    "### Stem words:"
   ]
  },
  {
   "cell_type": "code",
   "execution_count": null,
   "id": "de8fa7ef",
   "metadata": {},
   "outputs": [],
   "source": [
    "#stem words\n",
    "from nltk.stem import PorterStemmer\n",
    "from nltk.tokenize import sent_tokenize, word_tokenize\n",
    "import nltk\n",
    "nltk.download('punkt')\n",
    "ps = PorterStemmer()"
   ]
  },
  {
   "cell_type": "code",
   "execution_count": null,
   "id": "86fdaa6f",
   "metadata": {},
   "outputs": [],
   "source": []
  }
 ],
 "metadata": {
  "kernelspec": {
   "display_name": "Python 3 (ipykernel)",
   "language": "python",
   "name": "python3"
  },
  "language_info": {
   "codemirror_mode": {
    "name": "ipython",
    "version": 3
   },
   "file_extension": ".py",
   "mimetype": "text/x-python",
   "name": "python",
   "nbconvert_exporter": "python",
   "pygments_lexer": "ipython3",
   "version": "3.9.12"
  }
 },
 "nbformat": 4,
 "nbformat_minor": 5
}
